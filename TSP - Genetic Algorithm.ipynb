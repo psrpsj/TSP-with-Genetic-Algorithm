{
 "cells": [
  {
   "cell_type": "markdown",
   "source": [
    "# TSP with GA"
   ],
   "metadata": {}
  },
  {
   "cell_type": "markdown",
   "source": [
    "## 데이터 로딩 및 읽기"
   ],
   "metadata": {}
  },
  {
   "cell_type": "code",
   "execution_count": 1,
   "source": [
    "def read_file(file_name):\n",
    "    text_file = open(file_name, 'r')\n",
    "    data = [[int(n) for n in line.split()] for line in text_file]\n",
    "    return data"
   ],
   "outputs": [],
   "metadata": {}
  },
  {
   "cell_type": "code",
   "execution_count": 2,
   "source": [
    "data_5 = read_file('/Users/sangryupark/Documents/취업/포트폴리오/TSP-with-Genetic-Algorithm/dataset/five_d.txt')\n",
    "data_17 = read_file('/Users/sangryupark/Documents/취업/포트폴리오/TSP-with-Genetic-Algorithm/dataset/gr17_d.txt')\n",
    "data_26 = read_file('/Users/sangryupark/Documents/취업/포트폴리오/TSP-with-Genetic-Algorithm/dataset/fri26_d.txt')\n",
    "data_42 = read_file('/Users/sangryupark/Documents/취업/포트폴리오/TSP-with-Genetic-Algorithm/dataset/dantzig42_d.txt')\n",
    "data_48 = read_file('/Users/sangryupark/Documents/취업/포트폴리오/TSP-with-Genetic-Algorithm/dataset/att48_d.txt')"
   ],
   "outputs": [],
   "metadata": {}
  },
  {
   "cell_type": "markdown",
   "source": [
    "## Genetic Algorithm"
   ],
   "metadata": {}
  },
  {
   "cell_type": "code",
   "execution_count": 3,
   "source": [
    "import random"
   ],
   "outputs": [],
   "metadata": {}
  },
  {
   "cell_type": "code",
   "execution_count": 4,
   "source": [
    "## Create genes for population\n",
    "def create_gene(graph, start):\n",
    "    gene = [start]\n",
    "    while len(gene) != len(graph):\n",
    "        candidate = random.randint(1, len(graph))\n",
    "        if candidate not in gene:\n",
    "            gene.append(candidate)\n",
    "    gene.append(start)\n",
    "    return gene"
   ],
   "outputs": [],
   "metadata": {}
  },
  {
   "cell_type": "code",
   "execution_count": 5,
   "source": [
    "## Test create_gene\n",
    "a = [[0,3,4,2,7], [3,0,4,6,3], [4,4,0,5,8], [2,6,5,0,6], [7,3,8,6,0]]\n",
    "print(create_gene(a, 1))"
   ],
   "outputs": [
    {
     "output_type": "stream",
     "name": "stdout",
     "text": [
      "[1, 4, 3, 5, 2, 1]\n"
     ]
    }
   ],
   "metadata": {}
  },
  {
   "cell_type": "code",
   "execution_count": 6,
   "source": [
    "## Calculate cost for path\n",
    "def calculate_cost(graph, path):\n",
    "    cost = 0\n",
    "    for i in range(len(path) - 1):\n",
    "        cost += graph[path[i] - 1][path[i + 1] - 1]\n",
    "    return cost"
   ],
   "outputs": [],
   "metadata": {}
  },
  {
   "cell_type": "code",
   "execution_count": 7,
   "source": [
    "## Test for calculate_cost / Expected return : 80\n",
    "a = [[0, 10, 15, 20], [10, 0, 35, 25], [15, 35, 0, 30], [20, 25, 30, 0]]\n",
    "test_path = [1,2,4,3,1]\n",
    "print(calculate_cost(a, test_path))"
   ],
   "outputs": [
    {
     "output_type": "stream",
     "name": "stdout",
     "text": [
      "80\n"
     ]
    }
   ],
   "metadata": {}
  },
  {
   "cell_type": "code",
   "execution_count": 8,
   "source": [
    "## Select save_rate amount of population and add new population\n",
    "def sort_route_select(graph, start, population, save_rate):\n",
    "    # sort the population\n",
    "    for i in range(len(population) - 1):\n",
    "        temp_cost = calculate_cost(graph, population[i])\n",
    "        for j in range(i + 1, len(population)):\n",
    "            if temp_cost > calculate_cost(graph, population[j]):\n",
    "                temp = population[i]\n",
    "                population[i] = population[j]\n",
    "                population[j] = temp\n",
    "    \n",
    "    #Create new population from sorted : Top Ranked population + new population from random\n",
    "    save_pop = int(len(population) * save_rate)\n",
    "    new_pop = len(population) - save_pop\n",
    "    new_population = population[:save_pop]\n",
    "    \n",
    "    for l in range(new_pop):\n",
    "        random_select = random.randint(0, len(population) -1)\n",
    "        new_population.append(population[random_select])\n",
    "        \n",
    "    return new_population"
   ],
   "outputs": [],
   "metadata": {}
  },
  {
   "cell_type": "code",
   "execution_count": 9,
   "source": [
    "## Test for sort_route_select\n",
    "population = []\n",
    "for i in range(10):\n",
    "    population.append(create_gene(data_17, 1))\n",
    "result = sort_route_select(data_17, 1, population, 0.2)\n",
    "for j in range(len(result)):\n",
    "    print(calculate_cost(data_17, result[j]))"
   ],
   "outputs": [
    {
     "output_type": "stream",
     "name": "stdout",
     "text": [
      "4115\n",
      "4228\n",
      "4228\n",
      "4855\n",
      "5027\n",
      "4115\n",
      "4877\n",
      "4115\n",
      "4855\n",
      "4485\n"
     ]
    }
   ],
   "metadata": {}
  },
  {
   "cell_type": "code",
   "execution_count": 10,
   "source": [
    "## Breed from population\n",
    "def breed(parent1, parent2, start):\n",
    "    child = []\n",
    "    ch1 = parent1[1 : len(parent1) - 1]\n",
    "    ch2 = parent2[1 : len(parent2) - 1]\n",
    "    p1 = []\n",
    "    p2 = []\n",
    "    \n",
    "    a_point = random.randint(0, len(ch1) - 1)\n",
    "    b_point = random.randint(0, len(ch1) - 1)\n",
    "    \n",
    "    while a_point == b_point:\n",
    "        b_point = random.randint(0, len(ch1) - 1)\n",
    "    \n",
    "    start = min(a_point, b_point)\n",
    "    end = max(a_point, b_point)\n",
    "    \n",
    "    for i in range(start,end):\n",
    "        p1.append(ch1[i])\n",
    "    \n",
    "    p2 = [item for item in ch2 if item not in p1]\n",
    "    child = p1 + p2\n",
    "    child.insert(0, 1)\n",
    "    child.append(1)\n",
    "    return child"
   ],
   "outputs": [],
   "metadata": {}
  },
  {
   "cell_type": "code",
   "execution_count": 11,
   "source": [
    "## test for breed\n",
    "p1 = [1,3,2,4,5,1]\n",
    "p2 = [1,2,3,4,5,1]\n",
    "print(breed(p1, p2, 1))"
   ],
   "outputs": [
    {
     "output_type": "stream",
     "name": "stdout",
     "text": [
      "[1, 2, 4, 3, 5, 1]\n"
     ]
    }
   ],
   "metadata": {}
  },
  {
   "cell_type": "code",
   "execution_count": 12,
   "source": [
    "## breed for population\n",
    "def breed_population(population, save_rate, start):\n",
    "    breed_result = []\n",
    "    pool = random.sample(population, len(population))\n",
    "    save = int(len(population) * save_rate)\n",
    "    new = len(population) - save\n",
    "    \n",
    "    for i in range(save):\n",
    "        breed_result.append(population[i])\n",
    "    \n",
    "    for j in range(new):\n",
    "        child = breed(pool[j], pool[len(population) - j - 1], start)\n",
    "        breed_result.append(child)\n",
    "        \n",
    "    return breed_result"
   ],
   "outputs": [],
   "metadata": {}
  },
  {
   "cell_type": "code",
   "execution_count": 13,
   "source": [
    "## test for breed_population\n",
    "population = []\n",
    "for i in range (10):\n",
    "    population.append(create_gene(data_17, 1))\n",
    "print(population)\n",
    "print(breed_population(population, 0.2, 1))"
   ],
   "outputs": [
    {
     "output_type": "stream",
     "name": "stdout",
     "text": [
      "[[1, 12, 11, 17, 13, 5, 6, 8, 15, 3, 14, 4, 2, 9, 7, 10, 16, 1], [1, 4, 17, 10, 16, 14, 7, 8, 6, 9, 2, 12, 3, 13, 11, 15, 5, 1], [1, 15, 12, 8, 13, 5, 17, 2, 6, 16, 14, 3, 7, 9, 4, 11, 10, 1], [1, 13, 9, 4, 17, 6, 5, 12, 3, 15, 16, 14, 2, 7, 10, 8, 11, 1], [1, 7, 12, 11, 5, 2, 16, 3, 10, 9, 8, 14, 4, 13, 6, 17, 15, 1], [1, 11, 2, 16, 14, 12, 13, 10, 8, 7, 17, 3, 15, 5, 9, 4, 6, 1], [1, 13, 2, 14, 17, 10, 7, 16, 3, 8, 5, 9, 11, 12, 6, 4, 15, 1], [1, 7, 5, 15, 10, 13, 2, 11, 8, 14, 6, 3, 16, 17, 12, 4, 9, 1], [1, 16, 10, 17, 5, 2, 14, 8, 3, 13, 11, 7, 9, 12, 4, 6, 15, 1], [1, 4, 14, 10, 13, 11, 12, 5, 2, 7, 17, 3, 6, 8, 16, 15, 9, 1]]\n",
      "[[1, 12, 11, 17, 13, 5, 6, 8, 15, 3, 14, 4, 2, 9, 7, 10, 16, 1], [1, 4, 17, 10, 16, 14, 7, 8, 6, 9, 2, 12, 3, 13, 11, 15, 5, 1], [1, 16, 3, 8, 5, 9, 4, 17, 10, 14, 7, 6, 2, 12, 13, 11, 15, 1], [1, 12, 4, 13, 9, 17, 6, 5, 3, 15, 16, 14, 2, 7, 10, 8, 11, 1], [1, 2, 11, 8, 14, 6, 3, 16, 7, 12, 5, 10, 9, 4, 13, 17, 15, 1], [1, 3, 15, 5, 9, 12, 8, 13, 17, 2, 6, 16, 14, 7, 4, 11, 10, 1], [1, 10, 13, 11, 12, 5, 2, 7, 17, 3, 6, 8, 15, 14, 4, 9, 16, 1], [1, 14, 4, 2, 9, 7, 10, 13, 11, 12, 5, 17, 3, 6, 8, 16, 15, 1], [1, 12, 8, 13, 5, 17, 2, 6, 16, 14, 3, 7, 9, 4, 11, 10, 15, 1], [1, 16, 3, 10, 9, 8, 14, 4, 7, 5, 15, 13, 2, 11, 6, 17, 12, 1]]\n"
     ]
    }
   ],
   "metadata": {}
  },
  {
   "cell_type": "code",
   "execution_count": 14,
   "source": [
    "## random mutation\n",
    "def random_mutation(path):\n",
    "    r = random.randint(1, len(path) - 2)\n",
    "    r1 = random.randint(1, len(path) - 2)\n",
    "    \n",
    "    while r == r1:\n",
    "        r1 = random.randint(1, len(path) - 2)\n",
    "    temp = path[r]\n",
    "    path[r] = path[r1]\n",
    "    path[r1] = temp\n",
    "    \n",
    "    return path"
   ],
   "outputs": [],
   "metadata": {}
  },
  {
   "cell_type": "code",
   "execution_count": 15,
   "source": [
    "## test for random_mutation\n",
    "path = [1,2,3,4,1]\n",
    "print(random_mutation(path))"
   ],
   "outputs": [
    {
     "output_type": "stream",
     "name": "stdout",
     "text": [
      "[1, 4, 3, 2, 1]\n"
     ]
    }
   ],
   "metadata": {}
  },
  {
   "cell_type": "code",
   "execution_count": 16,
   "source": [
    "## combine all methods to create next generation\n",
    "def next_generation(graph, population, start, save_rate, save_possible):\n",
    "    rank_population = sort_route_select(graph, start, population, save_rate)\n",
    "    children = breed_population(population, save_rate, start)\n",
    "    next_population = []\n",
    "    for i in range(len(children)):\n",
    "        possible = random.randint(0, 100)\n",
    "        if possible < save_possible:\n",
    "            mutated = random_mutation(children[i])\n",
    "            next_population.append(mutated)\n",
    "        else:\n",
    "            next_population.append(children[i])\n",
    "    return next_population"
   ],
   "outputs": [],
   "metadata": {}
  },
  {
   "cell_type": "code",
   "execution_count": 17,
   "source": [
    "## test for next_generation\n",
    "population = []\n",
    "for i in range(3):\n",
    "    population.append(create_gene(data_17, 1))\n",
    "print(population)\n",
    "print(next_generation(data_17, population, 1, 0.2, 5))"
   ],
   "outputs": [
    {
     "output_type": "stream",
     "name": "stdout",
     "text": [
      "[[1, 16, 2, 8, 10, 17, 13, 11, 7, 6, 12, 4, 5, 14, 15, 3, 9, 1], [1, 14, 8, 12, 17, 6, 9, 11, 2, 4, 15, 16, 5, 13, 3, 10, 7, 1], [1, 4, 13, 6, 2, 12, 10, 3, 8, 9, 16, 15, 7, 17, 14, 5, 11, 1]]\n",
      "[[1, 4, 13, 6, 2, 12, 10, 16, 8, 17, 11, 7, 5, 14, 15, 3, 9, 1], [1, 16, 5, 13, 14, 8, 12, 17, 6, 9, 11, 2, 4, 15, 3, 10, 7, 1], [1, 7, 6, 4, 13, 2, 12, 10, 3, 8, 9, 16, 15, 17, 14, 5, 11, 1]]\n"
     ]
    }
   ],
   "metadata": {}
  },
  {
   "cell_type": "code",
   "execution_count": 18,
   "source": [
    "def tsp_genetic(graph, start, pop_size, run_time, save_rate, save_possible):\n",
    "    population = []\n",
    "    count = 0\n",
    "    \n",
    "    for i in range(pop_size):\n",
    "        population.append(create_gene(graph, start))\n",
    "    \n",
    "    #print(\"Initial Population cost : \", calculate_cost(graph, population[0]))\n",
    "        \n",
    "    while count < run_time:\n",
    "        new_population = next_generation(graph, population, start, save_rate, save_possible)\n",
    "        population = new_population\n",
    "        count += 1\n",
    "        \n",
    "    cost_index = 0\n",
    "    min_cost = int(1e9)\n",
    "    \n",
    "    for k in range(len(population)):\n",
    "        cost = calculate_cost(graph, population[k])\n",
    "        if cost < min_cost:\n",
    "            cost_index = k\n",
    "            min_cost = cost\n",
    "    \n",
    "    #print(population[cost_index])\n",
    "    return min_cost"
   ],
   "outputs": [],
   "metadata": {}
  },
  {
   "cell_type": "code",
   "execution_count": 19,
   "source": [
    "## test for tsp_genetic\n",
    "print(tsp_genetic(data_17, 1, 100, 2000, 0.2, 1))"
   ],
   "outputs": [
    {
     "output_type": "stream",
     "name": "stdout",
     "text": [
      "2103\n"
     ]
    }
   ],
   "metadata": {}
  },
  {
   "cell_type": "markdown",
   "source": [
    "## Plot per generation"
   ],
   "metadata": {}
  },
  {
   "cell_type": "code",
   "execution_count": 20,
   "source": [
    "import matplotlib.pyplot as plt"
   ],
   "outputs": [],
   "metadata": {}
  },
  {
   "cell_type": "code",
   "execution_count": 21,
   "source": [
    "def sort(graph, population):\n",
    "    # sort the population\n",
    "    for i in range(len(population) - 1):\n",
    "        temp_cost = calculate_cost(graph, population[i])\n",
    "        for j in range(i + 1, len(population)):\n",
    "            if temp_cost > calculate_cost(graph, population[j]):\n",
    "                temp = population[i]\n",
    "                population[i] = population[j]\n",
    "                population[j] = temp"
   ],
   "outputs": [],
   "metadata": {}
  },
  {
   "cell_type": "code",
   "execution_count": 22,
   "source": [
    "def plot_tsp_result(graph, start, pop_size, run_time, save_rate, save_possible):\n",
    "    population = []\n",
    "    plot_data1 = []\n",
    "    plot_data2 = []\n",
    "    plot_data3 = []\n",
    "    for i in range(pop_size):\n",
    "        population.append(create_gene(graph, start))\n",
    "    sort(graph, population)\n",
    "    plot_data1.append(calculate_cost(graph, population[0]))\n",
    "    \n",
    "    for j in range(run_time):\n",
    "        population = next_generation(graph, population, start, save_rate, save_possible)\n",
    "        sort(graph, population)\n",
    "        plot_data1.append(calculate_cost(graph, population[0]))\n",
    "    \n",
    "    \n",
    "    population2 = []\n",
    "    for m in range(pop_size):\n",
    "        population2.append(create_gene(graph, start))\n",
    "    \n",
    "    sort(graph, population2)\n",
    "    plot_data2.append(calculate_cost(graph, population2[0]))\n",
    "    \n",
    "    for k in range(run_time):\n",
    "        population2 = next_generation(graph, population2, start, save_rate, save_possible)\n",
    "        sort(graph, population2)\n",
    "        plot_data2.append(calculate_cost(graph, population2[0]))\n",
    "    \n",
    "    \n",
    "    population3 = []\n",
    "    for n in range(pop_size):\n",
    "        population3.append(create_gene(graph, start))\n",
    "    \n",
    "    sort(graph, population3)\n",
    "    plot_data3.append(calculate_cost(graph, population3[0]))\n",
    "    \n",
    "    for l in range(run_time):\n",
    "        population3 = next_generation(graph, population3, start, save_rate, save_possible)\n",
    "        sort(graph, population3)\n",
    "        plot_data3.append(calculate_cost(graph, population3[0]))\n",
    "        \n",
    "    plt.plot(plot_data1)\n",
    "    plt.plot(plot_data2)\n",
    "    plt.plot(plot_data3)\n",
    "    plt.xlabel('Generation')\n",
    "    plt.ylabel('Cost')\n",
    "    plt.show()"
   ],
   "outputs": [],
   "metadata": {}
  },
  {
   "cell_type": "code",
   "execution_count": 23,
   "source": [
    "plot_tsp_result(data_26, 1, 100, 500, 0.2, 1)"
   ],
   "outputs": [
    {
     "output_type": "display_data",
     "data": {
      "text/plain": [
       "<Figure size 432x288 with 1 Axes>"
      ],
      "image/png": "[encoded data removed]"
     },
     "metadata": {
      "needs_background": "light"
     }
    }
   ],
   "metadata": {}
  },
  {
   "cell_type": "code",
   "execution_count": 24,
   "source": [
    "plot_tsp_result(data_48, 1, 100, 500, 0.2, 1)"
   ],
   "outputs": [
    {
     "output_type": "display_data",
     "data": {
      "text/plain": [
       "<Figure size 432x288 with 1 Axes>"
      ],
      "image/png": "[encoded data removed]"
     },
     "metadata": {
      "needs_background": "light"
     }
    }
   ],
   "metadata": {}
  },
  {
   "cell_type": "markdown",
   "source": [
    "# Average GA minimum cost"
   ],
   "metadata": {}
  },
  {
   "cell_type": "code",
   "execution_count": 25,
   "source": [
    "import time, math"
   ],
   "outputs": [],
   "metadata": {}
  },
  {
   "cell_type": "code",
   "execution_count": 26,
   "source": [
    "def average(graph):\n",
    "    result = 0\n",
    "    result_list =[]\n",
    "    start = time.time()\n",
    "    for i in range(10):\n",
    "        temp_result = tsp_genetic(graph, 1, 100, 500, 0.2, 1)\n",
    "        result += temp_result\n",
    "        result_list.append(temp_result)\n",
    "    print(\"time : \", time.time() - start)\n",
    "    print(result / 10)   \n",
    "    return result_list\n"
   ],
   "outputs": [],
   "metadata": {}
  },
  {
   "cell_type": "code",
   "execution_count": 27,
   "source": [
    "result_48 = average(data_48)"
   ],
   "outputs": [
    {
     "output_type": "stream",
     "name": "stdout",
     "text": [
      "time :  193.13163495063782\n",
      "52182.1\n"
     ]
    }
   ],
   "metadata": {}
  },
  {
   "cell_type": "code",
   "execution_count": 28,
   "source": [
    "result_42 = average(data_42)"
   ],
   "outputs": [
    {
     "output_type": "stream",
     "name": "stdout",
     "text": [
      "time :  168.11873936653137\n",
      "1093.9\n"
     ]
    }
   ],
   "metadata": {}
  },
  {
   "cell_type": "code",
   "execution_count": 30,
   "source": [
    "result_26 = average(data_26)"
   ],
   "outputs": [
    {
     "output_type": "stream",
     "name": "stdout",
     "text": [
      "time :  110.50912690162659\n",
      "1088.3\n"
     ]
    }
   ],
   "metadata": {}
  },
  {
   "cell_type": "code",
   "execution_count": 31,
   "source": [
    "result_17 = average(data_17)"
   ],
   "outputs": [
    {
     "output_type": "stream",
     "name": "stdout",
     "text": [
      "time :  79.67178988456726\n",
      "2160.3\n"
     ]
    }
   ],
   "metadata": {}
  },
  {
   "cell_type": "code",
   "execution_count": 32,
   "source": [
    "def accuracy(result, min_cost):\n",
    "    accuracy_list = []\n",
    "    for i in range(len(result)):\n",
    "        error = math.fabs(result[i] - min_cost) / min_cost\n",
    "        accurate = (1 - error) * 100\n",
    "        accuracy_list.append(accurate)\n",
    "    return accuracy_list"
   ],
   "outputs": [],
   "metadata": {}
  },
  {
   "cell_type": "code",
   "execution_count": 33,
   "source": [
    "def average_accurate(accuracy) :\n",
    "    total = 0\n",
    "    for i in accuracy:\n",
    "        total += i\n",
    "    return total / 10"
   ],
   "outputs": [],
   "metadata": {}
  },
  {
   "cell_type": "code",
   "execution_count": 34,
   "source": [
    "print(result_17)\n",
    "accuracy_17 = accuracy(result_17, 2085)\n",
    "print(accuracy_17)"
   ],
   "outputs": [
    {
     "output_type": "stream",
     "name": "stdout",
     "text": [
      "[2158, 2142, 2170, 2177, 2129, 2149, 2317, 2103, 2142, 2116]\n",
      "[96.49880095923261, 97.2661870503597, 95.92326139088729, 95.58752997601918, 97.88968824940048, 96.93045563549161, 88.87290167865707, 99.13669064748201, 97.2661870503597, 98.51318944844125]\n"
     ]
    }
   ],
   "metadata": {}
  },
  {
   "cell_type": "code",
   "execution_count": 35,
   "source": [
    "print(average_accurate(accuracy_17))"
   ],
   "outputs": [
    {
     "output_type": "stream",
     "name": "stdout",
     "text": [
      "96.3884892086331\n"
     ]
    }
   ],
   "metadata": {}
  },
  {
   "cell_type": "code",
   "execution_count": 48,
   "source": [
    "accuracy_26 = accuracy(result_26, 937)\n",
    "print(accuracy_26)"
   ],
   "outputs": [
    {
     "output_type": "stream",
     "name": "stdout",
     "text": [
      "[82.17716115261473, 91.56883671291357, 77.16115261472785, 77.05442902881536, 83.03094983991463, 82.60405549626468, 82.71077908217717, 85.91248665955176, 85.80576307363927, 90.50160085378869]\n"
     ]
    }
   ],
   "metadata": {}
  },
  {
   "cell_type": "code",
   "execution_count": 49,
   "source": [
    "print(average_accurate(accuracy_26))"
   ],
   "outputs": [
    {
     "output_type": "stream",
     "name": "stdout",
     "text": [
      "83.85272145144077\n"
     ]
    }
   ],
   "metadata": {}
  },
  {
   "cell_type": "code",
   "execution_count": 50,
   "source": [
    "accuracy_42 = accuracy(result_42, 699)\n",
    "print(accuracy_42)"
   ],
   "outputs": [
    {
     "output_type": "stream",
     "name": "stdout",
     "text": [
      "[47.63948497854077, 41.201716738197426, 45.779685264663804, 43.20457796852647, 38.91273247496424, 34.04864091559371, 44.206008583690995, 52.5035765379113, 51.50214592274678, 36.05150214592274]\n"
     ]
    }
   ],
   "metadata": {}
  },
  {
   "cell_type": "code",
   "execution_count": 51,
   "source": [
    "print(average_accurate(accuracy_42))"
   ],
   "outputs": [
    {
     "output_type": "stream",
     "name": "stdout",
     "text": [
      "43.50500715307582\n"
     ]
    }
   ],
   "metadata": {}
  },
  {
   "cell_type": "code",
   "execution_count": 53,
   "source": [
    "accuracy_48 = accuracy(result_48, 47746)\n",
    "print(accuracy_48)"
   ],
   "outputs": [
    {
     "output_type": "stream",
     "name": "stdout",
     "text": [
      "[63.689104846479296, 83.56511540233737, 95.91379382566079, 96.83743140786663, 98.78104972144264, 91.04008712771751, 92.03702927993969, 92.75331964981359, 90.83692874795794, 95.31060193524064]\n"
     ]
    }
   ],
   "metadata": {}
  },
  {
   "cell_type": "code",
   "execution_count": 54,
   "source": [
    "print(average_accurate(accuracy_48))"
   ],
   "outputs": [
    {
     "output_type": "stream",
     "name": "stdout",
     "text": [
      "90.07644619444561\n"
     ]
    }
   ],
   "metadata": {}
  },
  {
   "cell_type": "markdown",
   "source": [
    "## 비교알고리즘 (Greedy Algorithm)"
   ],
   "metadata": {}
  },
  {
   "cell_type": "code",
   "execution_count": 42,
   "source": [
    "def find_min(graph, node, path):\n",
    "    min_cost = int(1e9)\n",
    "    return_node = node\n",
    "    for i in range (len(graph[node - 1])):\n",
    "        if graph[node - 1][i] != 0 and i + 1 not in path:\n",
    "            if min_cost > graph[node - 1][i]:\n",
    "                min_cost = graph[node - 1][i]\n",
    "                return_node = i + 1\n",
    "    return (return_node, min_cost)"
   ],
   "outputs": [],
   "metadata": {}
  },
  {
   "cell_type": "code",
   "execution_count": 43,
   "source": [
    "def tsp_greedy(graph, start):\n",
    "    path = [start]\n",
    "    now = start\n",
    "    cost = 0\n",
    "    while(len(path) != len(graph)):\n",
    "        future, future_cost = find_min(graph, now, path)\n",
    "        cost += future_cost\n",
    "        path.append(future)\n",
    "        now = future\n",
    "    cost += graph[now - 1][start - 1]\n",
    "    path.append(start)\n",
    "    print(path)\n",
    "    return cost"
   ],
   "outputs": [],
   "metadata": {}
  },
  {
   "cell_type": "markdown",
   "source": [
    "### Test case for tsp_greedy"
   ],
   "metadata": {}
  },
  {
   "cell_type": "code",
   "execution_count": 44,
   "source": [
    "print(tsp_greedy(data_17, 1))"
   ],
   "outputs": [
    {
     "output_type": "stream",
     "name": "stdout",
     "text": [
      "[1, 13, 4, 7, 8, 6, 17, 14, 15, 3, 11, 5, 10, 2, 9, 12, 16, 1]\n",
      "2187\n"
     ]
    }
   ],
   "metadata": {}
  },
  {
   "cell_type": "markdown",
   "source": [
    "## Prepare compare approach (Greedy Algorithm)"
   ],
   "metadata": {}
  },
  {
   "cell_type": "code",
   "execution_count": 45,
   "source": [
    "def find_min(graph, node, path):\n",
    "    min_cost = int(1e9)\n",
    "    return_node = node\n",
    "    for i in range (len(graph[node - 1])):\n",
    "        if graph[node - 1][i] != 0 and i + 1 not in path:\n",
    "            if min_cost > graph[node - 1][i]:\n",
    "                min_cost = graph[node - 1][i]\n",
    "                return_node = i + 1\n",
    "    return (return_node, min_cost)"
   ],
   "outputs": [],
   "metadata": {}
  },
  {
   "cell_type": "code",
   "execution_count": 46,
   "source": [
    "def tsp_greedy(graph, start):\n",
    "    path = [start]\n",
    "    now = start\n",
    "    cost = 0\n",
    "    while(len(path) != len(graph)):\n",
    "        future, future_cost = find_min(graph, now, path)\n",
    "        cost += future_cost\n",
    "        path.append(future)\n",
    "        now = future\n",
    "    cost += graph[now - 1][start - 1]\n",
    "    path.append(start)\n",
    "    print(path)\n",
    "    return cost"
   ],
   "outputs": [],
   "metadata": {}
  },
  {
   "cell_type": "markdown",
   "source": [
    "### Test case for tsp_greedy"
   ],
   "metadata": {}
  },
  {
   "cell_type": "code",
   "execution_count": 47,
   "source": [
    "print(tsp_greedy(data_17, 1))"
   ],
   "outputs": [
    {
     "output_type": "stream",
     "name": "stdout",
     "text": [
      "[1, 13, 4, 7, 8, 6, 17, 14, 15, 3, 11, 5, 10, 2, 9, 12, 16, 1]\n",
      "2187\n"
     ]
    }
   ],
   "metadata": {}
  }
 ],
 "metadata": {
  "kernelspec": {
   "display_name": "Python 3",
   "language": "python",
   "name": "python3"
  },
  "language_info": {
   "codemirror_mode": {
    "name": "ipython",
    "version": 3
   },
   "file_extension": ".py",
   "mimetype": "text/x-python",
   "name": "python",
   "nbconvert_exporter": "python",
   "pygments_lexer": "ipython3",
   "version": "3.7.4"
  }
 },
 "nbformat": 4,
 "nbformat_minor": 2
}