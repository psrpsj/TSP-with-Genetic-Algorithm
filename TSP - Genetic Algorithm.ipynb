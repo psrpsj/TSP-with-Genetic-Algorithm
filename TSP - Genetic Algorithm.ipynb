{
 "cells": [
  {
   "cell_type": "markdown",
   "metadata": {},
   "source": [
    "# TSP with GA"
   ]
  },
  {
   "cell_type": "markdown",
   "metadata": {},
   "source": [
    "## Data Preparation"
   ]
  },
  {
   "cell_type": "code",
   "execution_count": 1,
   "metadata": {},
   "outputs": [],
   "source": [
    "def read_file(file_name):\n",
    "    text_file = open(file_name, 'r')\n",
    "    data = [[int(n) for n in line.split()] for line in text_file]\n",
    "    return data"
   ]
  },
  {
   "cell_type": "markdown",
   "metadata": {},
   "source": [
    "## Prepare compare approach (Greedy Algorithm)"
   ]
  },
  {
   "cell_type": "code",
   "execution_count": 2,
   "metadata": {},
   "outputs": [],
   "source": [
    "def find_min(graph, node, path):\n",
    "    min_cost = int(1e9)\n",
    "    return_node = node\n",
    "    for i in range (len(graph[node - 1])):\n",
    "        if graph[node - 1][i] != 0 and i + 1 not in path:\n",
    "            if min_cost > graph[node - 1][i]:\n",
    "                min_cost = graph[node - 1][i]\n",
    "                return_node = i + 1\n",
    "    return (return_node, min_cost)"
   ]
  },
  {
   "cell_type": "code",
   "execution_count": 3,
   "metadata": {},
   "outputs": [],
   "source": [
    "def tsp_greedy(graph, start):\n",
    "    path = [start]\n",
    "    now = start\n",
    "    cost = 0\n",
    "    while(len(path) != len(graph)):\n",
    "        future, future_cost = find_min(graph, now, path)\n",
    "        cost += future_cost\n",
    "        path.append(future)\n",
    "        now = future\n",
    "    cost += graph[now - 1][start - 1]\n",
    "    path.append(start)\n",
    "    print(path)\n",
    "    return cost"
   ]
  },
  {
   "cell_type": "markdown",
   "metadata": {},
   "source": [
    "### Test case for tsp_greedy"
   ]
  },
  {
   "cell_type": "code",
   "execution_count": 4,
   "metadata": {},
   "outputs": [
    {
     "name": "stdout",
     "output_type": "stream",
     "text": [
      "[1, 13, 4, 7, 8, 6, 17, 14, 15, 3, 11, 5, 10, 2, 9, 12, 16, 1]\n",
      "2187\n"
     ]
    }
   ],
   "source": [
    "data = read_file('/Users/sangryupark/Downloads/dataset/gr17_d.txt')\n",
    "print(tsp_greedy(data, 1))"
   ]
  },
  {
   "cell_type": "markdown",
   "metadata": {},
   "source": [
    "## Genetic Algorithm"
   ]
  },
  {
   "cell_type": "code",
   "execution_count": 5,
   "metadata": {},
   "outputs": [],
   "source": [
    "import random"
   ]
  },
  {
   "cell_type": "code",
   "execution_count": 6,
   "metadata": {},
   "outputs": [],
   "source": [
    "## Create genes for population\n",
    "def create_gene(graph, start):\n",
    "    gene = [start]\n",
    "    while len(gene) != len(graph):\n",
    "        candidate = random.randint(1, len(graph))\n",
    "        if candidate not in gene:\n",
    "            gene.append(candidate)\n",
    "    gene.append(start)\n",
    "    return gene"
   ]
  },
  {
   "cell_type": "code",
   "execution_count": 7,
   "metadata": {},
   "outputs": [
    {
     "name": "stdout",
     "output_type": "stream",
     "text": [
      "[1, 2, 5, 3, 4, 1]\n"
     ]
    }
   ],
   "source": [
    "## Test create_gene\n",
    "a = [[0,3,4,2,7], [3,0,4,6,3], [4,4,0,5,8], [2,6,5,0,6], [7,3,8,6,0]]\n",
    "print(create_gene(a, 1))"
   ]
  },
  {
   "cell_type": "code",
   "execution_count": 8,
   "metadata": {},
   "outputs": [],
   "source": [
    "## Calculate cost for path\n",
    "def calculate_cost(graph, path):\n",
    "    cost = 0\n",
    "    for i in range(len(path) - 1):\n",
    "        cost += graph[path[i] - 1][path[i + 1] - 1]\n",
    "    return cost"
   ]
  },
  {
   "cell_type": "code",
   "execution_count": 9,
   "metadata": {},
   "outputs": [
    {
     "name": "stdout",
     "output_type": "stream",
     "text": [
      "80\n"
     ]
    }
   ],
   "source": [
    "## Test for calculate_cost / Expected return : 80\n",
    "a = [[0, 10, 15, 20], [10, 0, 35, 25], [15, 35, 0, 30], [20, 25, 30, 0]]\n",
    "test_path = [1,2,4,3,1]\n",
    "print(calculate_cost(a, test_path))"
   ]
  },
  {
   "cell_type": "code",
   "execution_count": 10,
   "metadata": {},
   "outputs": [],
   "source": [
    "## Select save_rate amount of population and add new population\n",
    "def sort_route_select(graph, start, population, save_rate):\n",
    "    # sort the population\n",
    "    for i in range(len(population) - 1):\n",
    "        temp_cost = calculate_cost(graph, population[i])\n",
    "        for j in range(i + 1, len(population)):\n",
    "            if temp_cost > calculate_cost(graph, population[j]):\n",
    "                temp = population[i]\n",
    "                population[i] = population[j]\n",
    "                population[j] = temp\n",
    "    \n",
    "    #Create new population from sorted : Top Ranked population + new population from random\n",
    "    save_pop = int(len(population) * save_rate)\n",
    "    new_pop = len(population) - save_pop\n",
    "    new_population = population[:save_pop]\n",
    "    \n",
    "    for l in range(new_pop):\n",
    "        random_select = random.randint(0, save_pop)\n",
    "        new_population.append(population[random_select])\n",
    "        \n",
    "    return new_population"
   ]
  },
  {
   "cell_type": "code",
   "execution_count": 11,
   "metadata": {},
   "outputs": [
    {
     "name": "stdout",
     "output_type": "stream",
     "text": [
      "4074\n",
      "3841\n",
      "4074\n",
      "3841\n",
      "4074\n",
      "4074\n",
      "3841\n",
      "4074\n",
      "3841\n",
      "4074\n"
     ]
    }
   ],
   "source": [
    "## Test for sort_route_select\n",
    "data = read_file('/Users/sangryupark/Downloads/dataset/gr17_d.txt')\n",
    "population = []\n",
    "for i in range(10):\n",
    "    population.append(create_gene(data, 1))\n",
    "result = sort_route_select(data, 1, population, 0.2)\n",
    "for j in range(len(result)):\n",
    "    print(calculate_cost(data, result[j]))"
   ]
  },
  {
   "cell_type": "code",
   "execution_count": 12,
   "metadata": {},
   "outputs": [],
   "source": [
    "## Breed from population\n",
    "def breed(parent1, parent2, start):\n",
    "    child = []\n",
    "    ch1 = parent1[1 : len(parent1) - 1]\n",
    "    ch2 = parent2[1 : len(parent2) - 1]\n",
    "    p1 = []\n",
    "    p2 = []\n",
    "    \n",
    "    a_point = random.randint(0, len(ch1))\n",
    "    b_point = random.randint(0, len(ch1))\n",
    "    \n",
    "    while a_point == b_point:\n",
    "        b_point = random.randint(0, len(ch1) - 1)\n",
    "    \n",
    "    start = min(a_point, b_point)\n",
    "    end = max(a_point, b_point)\n",
    "    \n",
    "    for i in range(start,end):\n",
    "        p1.append(ch1[i])\n",
    "    \n",
    "    p2 = [item for item in ch2 if item not in p1]\n",
    "    child = p1 + p2\n",
    "    child.insert(0, 1)\n",
    "    child.append(1)\n",
    "    return child"
   ]
  },
  {
   "cell_type": "code",
   "execution_count": 13,
   "metadata": {},
   "outputs": [
    {
     "name": "stdout",
     "output_type": "stream",
     "text": [
      "[1, 3, 2, 4, 5, 1]\n"
     ]
    }
   ],
   "source": [
    "## test for breed\n",
    "p1 = [1,3,2,4,5,1]\n",
    "p2 = [1,2,3,4,5,1]\n",
    "print(breed(p1, p2, 1))"
   ]
  },
  {
   "cell_type": "code",
   "execution_count": 14,
   "metadata": {},
   "outputs": [],
   "source": [
    "## breed for population\n",
    "def breed_population(population, save_rate, start):\n",
    "    breed_result = []\n",
    "    pool = random.sample(population, len(population))\n",
    "    save = int(len(population) * save_rate)\n",
    "    new = len(population) - save\n",
    "    \n",
    "    for i in range(save):\n",
    "        breed_result.append(population[i])\n",
    "    \n",
    "    for j in range(new):\n",
    "        child = breed(pool[j], pool[len(population) - j - 1], start)\n",
    "        breed_result.append(child)\n",
    "        \n",
    "    return breed_result"
   ]
  },
  {
   "cell_type": "code",
   "execution_count": 15,
   "metadata": {},
   "outputs": [
    {
     "name": "stdout",
     "output_type": "stream",
     "text": [
      "[[1, 4, 5, 16, 9, 12, 2, 15, 6, 10, 11, 14, 17, 3, 7, 13, 8, 1], [1, 10, 2, 8, 16, 12, 3, 13, 17, 15, 14, 9, 6, 11, 7, 4, 5, 1], [1, 6, 3, 11, 7, 2, 14, 5, 4, 8, 16, 13, 9, 17, 10, 15, 12, 1], [1, 2, 9, 11, 16, 17, 12, 10, 7, 6, 4, 3, 8, 15, 5, 13, 14, 1], [1, 13, 11, 14, 16, 6, 7, 12, 4, 8, 9, 5, 10, 15, 3, 2, 17, 1], [1, 2, 7, 14, 4, 3, 15, 12, 13, 9, 16, 10, 8, 17, 11, 5, 6, 1], [1, 7, 9, 6, 16, 11, 2, 4, 14, 3, 8, 12, 15, 10, 13, 17, 5, 1], [1, 17, 5, 3, 6, 7, 10, 8, 9, 11, 4, 2, 16, 12, 13, 14, 15, 1], [1, 14, 12, 4, 6, 13, 10, 9, 8, 15, 16, 5, 11, 7, 2, 17, 3, 1], [1, 3, 14, 6, 5, 4, 17, 11, 7, 16, 12, 10, 8, 15, 2, 9, 13, 1]]\n",
      "[[1, 4, 5, 16, 9, 12, 2, 15, 6, 10, 11, 14, 17, 3, 7, 13, 8, 1], [1, 10, 2, 8, 16, 12, 3, 13, 17, 15, 14, 9, 6, 11, 7, 4, 5, 1], [1, 16, 13, 11, 14, 6, 7, 12, 4, 8, 9, 5, 10, 15, 3, 2, 17, 1], [1, 14, 12, 4, 6, 13, 10, 9, 8, 15, 16, 5, 11, 7, 2, 17, 3, 1], [1, 17, 10, 15, 2, 7, 14, 4, 3, 12, 13, 9, 16, 8, 11, 5, 6, 1], [1, 6, 7, 10, 8, 9, 3, 14, 5, 4, 17, 11, 16, 12, 15, 2, 13, 1], [1, 4, 5, 16, 9, 12, 2, 15, 10, 8, 3, 13, 17, 14, 6, 11, 7, 1], [1, 16, 12, 3, 13, 17, 15, 14, 9, 6, 11, 7, 4, 5, 2, 10, 8, 1], [1, 4, 17, 11, 7, 16, 12, 10, 8, 5, 3, 6, 9, 2, 13, 14, 15, 1], [1, 15, 12, 13, 9, 16, 10, 8, 17, 11, 5, 6, 3, 7, 2, 14, 4, 1]]\n"
     ]
    }
   ],
   "source": [
    "## test for breed_population\n",
    "data = read_file('/Users/sangryupark/Downloads/dataset/gr17_d.txt')\n",
    "population = []\n",
    "for i in range (10):\n",
    "    population.append(create_gene(data, 1))\n",
    "print(population)\n",
    "print(breed_population(population, 0.2, 1))"
   ]
  },
  {
   "cell_type": "code",
   "execution_count": 16,
   "metadata": {},
   "outputs": [],
   "source": [
    "## random mutation\n",
    "def random_mutation(path):\n",
    "    r = random.randint(1, len(path) - 2)\n",
    "    r1 = random.randint(1, len(path) - 2)\n",
    "    \n",
    "    while r == r1:\n",
    "        r1 = random.randint(1, len(path) - 2)\n",
    "    temp = path[r]\n",
    "    path[r] = path[r1]\n",
    "    path[r1] = temp\n",
    "    \n",
    "    return path"
   ]
  },
  {
   "cell_type": "code",
   "execution_count": 17,
   "metadata": {},
   "outputs": [
    {
     "name": "stdout",
     "output_type": "stream",
     "text": [
      "[1, 3, 2, 4, 1]\n"
     ]
    }
   ],
   "source": [
    "## test for random_mutation\n",
    "path = [1,2,3,4,1]\n",
    "print(random_mutation(path))"
   ]
  },
  {
   "cell_type": "code",
   "execution_count": 18,
   "metadata": {},
   "outputs": [],
   "source": [
    "## combine all methods to create next generation\n",
    "def next_generation(graph, population, start, save_rate, save_possible):\n",
    "    rank_population = sort_route_select(graph, start, population, save_rate)\n",
    "    children = breed_population(population, save_rate, start)\n",
    "    next_population = []\n",
    "    for i in range(len(children)):\n",
    "        possible = random.randint(0, 100)\n",
    "        if possible < save_possible:\n",
    "            mutated = random_mutation(children[i])\n",
    "            next_population.append(mutated)\n",
    "        else:\n",
    "            next_population.append(children[i])\n",
    "    return next_population"
   ]
  },
  {
   "cell_type": "code",
   "execution_count": 19,
   "metadata": {},
   "outputs": [
    {
     "name": "stdout",
     "output_type": "stream",
     "text": [
      "[[1, 16, 14, 15, 7, 2, 10, 17, 5, 13, 12, 8, 4, 3, 6, 11, 9, 1], [1, 15, 11, 13, 3, 14, 8, 4, 2, 6, 10, 17, 16, 7, 12, 5, 9, 1], [1, 12, 8, 14, 6, 9, 3, 11, 16, 7, 5, 4, 15, 10, 17, 2, 13, 1]]\n",
      "[[1, 10, 17, 5, 13, 12, 8, 4, 3, 6, 14, 9, 11, 16, 7, 15, 2, 1], [1, 16, 7, 15, 11, 13, 3, 14, 8, 4, 2, 6, 10, 17, 12, 5, 9, 1], [1, 6, 9, 3, 11, 16, 7, 5, 4, 15, 10, 17, 2, 13, 14, 12, 8, 1]]\n"
     ]
    }
   ],
   "source": [
    "## test for next_generation\n",
    "data = read_file('/Users/sangryupark/Downloads/dataset/gr17_d.txt')\n",
    "population = []\n",
    "for i in range(3):\n",
    "    population.append(create_gene(data, 1))\n",
    "print(population)\n",
    "print(next_generation(data, population, 1, 0.2, 5))"
   ]
  },
  {
   "cell_type": "code",
   "execution_count": 20,
   "metadata": {},
   "outputs": [],
   "source": [
    "def tsp_genetic(graph, start, pop_size, run_time, save_rate, save_possible):\n",
    "    population = []\n",
    "    count = 0\n",
    "    \n",
    "    for i in range(pop_size):\n",
    "        population.append(create_gene(graph, start))\n",
    "    \n",
    "    #print(\"Initial Population cost : \", calculate_cost(graph, population[0]))\n",
    "        \n",
    "    while count < run_time:\n",
    "        new_population = next_generation(graph, population, start, save_rate, save_possible)\n",
    "        population = new_population\n",
    "        count += 1\n",
    "        \n",
    "    cost_index = 0\n",
    "    min_cost = int(1e9)\n",
    "    \n",
    "    for k in range(len(population)):\n",
    "        cost = calculate_cost(graph, population[k])\n",
    "        if cost < min_cost:\n",
    "            cost_index = k\n",
    "            min_cost = cost\n",
    "    \n",
    "    #print(population[cost_index])\n",
    "    return min_cost"
   ]
  },
  {
   "cell_type": "code",
   "execution_count": 21,
   "metadata": {},
   "outputs": [
    {
     "name": "stdout",
     "output_type": "stream",
     "text": [
      "44038\n",
      "[1, 9, 38, 31, 44, 18, 7, 28, 36, 30, 6, 37, 19, 27, 43, 17, 46, 33, 15, 12, 11, 23, 14, 25, 13, 21, 47, 20, 40, 3, 22, 16, 41, 34, 29, 5, 48, 39, 32, 24, 10, 42, 26, 4, 35, 45, 2, 8, 1]\n",
      "40551\n"
     ]
    }
   ],
   "source": [
    "## test for tsp_genetic\n",
    "data = read_file('/Users/sangryupark/Downloads/dataset/att48_d.txt')\n",
    "print(tsp_genetic(data, 1, 100, 2000, 0.2, 1))\n",
    "print(tsp_greedy(data, 1))"
   ]
  },
  {
   "cell_type": "markdown",
   "metadata": {},
   "source": [
    "## Plot per generation"
   ]
  },
  {
   "cell_type": "code",
   "execution_count": 22,
   "metadata": {},
   "outputs": [],
   "source": [
    "import matplotlib.pyplot as plt"
   ]
  },
  {
   "cell_type": "code",
   "execution_count": 23,
   "metadata": {},
   "outputs": [],
   "source": [
    "def sort(graph, population):\n",
    "    # sort the population\n",
    "    for i in range(len(population) - 1):\n",
    "        temp_cost = calculate_cost(graph, population[i])\n",
    "        for j in range(i + 1, len(population)):\n",
    "            if temp_cost > calculate_cost(graph, population[j]):\n",
    "                temp = population[i]\n",
    "                population[i] = population[j]\n",
    "                population[j] = temp"
   ]
  },
  {
   "cell_type": "code",
   "execution_count": 24,
   "metadata": {},
   "outputs": [],
   "source": [
    "def plot_tsp_result(graph, start, pop_size, run_time, save_rate, save_possible):\n",
    "    population = []\n",
    "    plot_data1 = []\n",
    "    plot_data2 = []\n",
    "    plot_data3 = []\n",
    "    for i in range(pop_size):\n",
    "        population.append(create_gene(graph, start))\n",
    "    sort(graph, population)\n",
    "    plot_data1.append(calculate_cost(graph, population[0]))\n",
    "    \n",
    "    for j in range(run_time):\n",
    "        population = next_generation(graph, population, start, save_rate, save_possible)\n",
    "        sort(graph, population)\n",
    "        plot_data1.append(calculate_cost(graph, population[0]))\n",
    "    \n",
    "    \n",
    "    population2 = []\n",
    "    for m in range(pop_size):\n",
    "        population2.append(create_gene(graph, start))\n",
    "    \n",
    "    sort(graph, population2)\n",
    "    plot_data2.append(calculate_cost(graph, population2[0]))\n",
    "    \n",
    "    for k in range(run_time):\n",
    "        population2 = next_generation(graph, population2, start, save_rate, save_possible)\n",
    "        sort(graph, population2)\n",
    "        plot_data2.append(calculate_cost(graph, population2[0]))\n",
    "    \n",
    "    \n",
    "    population3 = []\n",
    "    for n in range(pop_size):\n",
    "        population3.append(create_gene(graph, start))\n",
    "    \n",
    "    sort(graph, population3)\n",
    "    plot_data3.append(calculate_cost(graph, population3[0]))\n",
    "    \n",
    "    for l in range(run_time):\n",
    "        population3 = next_generation(graph, population3, start, save_rate, save_possible)\n",
    "        sort(graph, population3)\n",
    "        plot_data3.append(calculate_cost(graph, population3[0]))\n",
    "        \n",
    "    plt.plot(plot_data1)\n",
    "    plt.plot(plot_data2)\n",
    "    plt.plot(plot_data3)\n",
    "    plt.xlabel('Generation')\n",
    "    plt.ylabel('Cost')\n",
    "    plt.show()"
   ]
  },
  {
   "cell_type": "code",
   "execution_count": 25,
   "metadata": {},
   "outputs": [
    {
     "data": {
      "image/png": "[encoded data removed]",
      "text/plain": [
       "<Figure size 432x288 with 1 Axes>"
      ]
     },
     "metadata": {
      "needs_background": "light"
     },
     "output_type": "display_data"
    }
   ],
   "source": [
    "data = read_file('/Users/sangryupark/Downloads/dataset/fri26_d.txt')\n",
    "plot_tsp_result(data, 1, 100, 500, 0.2, 1)"
   ]
  },
  {
   "cell_type": "code",
   "execution_count": 26,
   "metadata": {},
   "outputs": [
    {
     "data": {
      "image/png": "[encoded data removed]",
      "text/plain": [
       "<Figure size 432x288 with 1 Axes>"
      ]
     },
     "metadata": {
      "needs_background": "light"
     },
     "output_type": "display_data"
    }
   ],
   "source": [
    "data2 = read_file('/Users/sangryupark/Downloads/dataset/att48_d.txt')\n",
    "plot_tsp_result(data2, 1, 100, 500, 0.2, 1)"
   ]
  },
  {
   "cell_type": "markdown",
   "metadata": {},
   "source": [
    "# Average GA minimum cost"
   ]
  },
  {
   "cell_type": "code",
   "execution_count": 39,
   "metadata": {},
   "outputs": [],
   "source": [
    "import time, math"
   ]
  },
  {
   "cell_type": "code",
   "execution_count": 28,
   "metadata": {},
   "outputs": [],
   "source": [
    "def average(graph):\n",
    "    result = 0\n",
    "    result_list =[]\n",
    "    start = time.time()\n",
    "    for i in range(10):\n",
    "        temp_result = tsp_genetic(graph, 1, 100, 500, 0.2, 1)\n",
    "        result += temp_result\n",
    "        result_list.append(temp_result)\n",
    "    print(\"time : \", time.time() - start)\n",
    "    print(result / 10)   \n",
    "    return result_list\n"
   ]
  },
  {
   "cell_type": "code",
   "execution_count": 29,
   "metadata": {},
   "outputs": [],
   "source": [
    "data_48 = read_file('/Users/sangryupark/Downloads/dataset/att48_d.txt')\n",
    "data_42 = read_file('/Users/sangryupark/Downloads/dataset/dantzig42_d.txt')\n",
    "data_5 = [[0,3,4,2,7], [3,0,4,6,3], [4,4,0,5,8], [2,6,5,0,6], [7,3,8,6,0]]\n",
    "data_26 = read_file('/Users/sangryupark/Downloads/dataset/fri26_d.txt')\n",
    "data_17 = read_file('/Users/sangryupark/Downloads/dataset/gr17_d.txt')"
   ]
  },
  {
   "cell_type": "code",
   "execution_count": 30,
   "metadata": {},
   "outputs": [
    {
     "name": "stdout",
     "output_type": "stream",
     "text": [
      "time :  213.80094289779663\n",
      "52428.6\n"
     ]
    }
   ],
   "source": [
    "result_48 = average(data_48)"
   ]
  },
  {
   "cell_type": "code",
   "execution_count": 31,
   "metadata": {},
   "outputs": [
    {
     "name": "stdout",
     "output_type": "stream",
     "text": [
      "time :  182.85994505882263\n",
      "1077.9\n"
     ]
    }
   ],
   "source": [
    "result_42 = average(data_42)"
   ]
  },
  {
   "cell_type": "code",
   "execution_count": 32,
   "metadata": {},
   "outputs": [
    {
     "name": "stdout",
     "output_type": "stream",
     "text": [
      "time :  32.87572407722473\n",
      "19.0\n"
     ]
    }
   ],
   "source": [
    "result_5 = average(data_5)"
   ]
  },
  {
   "cell_type": "code",
   "execution_count": 33,
   "metadata": {},
   "outputs": [
    {
     "name": "stdout",
     "output_type": "stream",
     "text": [
      "time :  118.61300206184387\n",
      "1083.1\n"
     ]
    }
   ],
   "source": [
    "result_26 = average(data_26)"
   ]
  },
  {
   "cell_type": "code",
   "execution_count": 34,
   "metadata": {},
   "outputs": [
    {
     "name": "stdout",
     "output_type": "stream",
     "text": [
      "time :  83.4503059387207\n",
      "2137.7\n"
     ]
    }
   ],
   "source": [
    "result_17 = average(data_17)"
   ]
  },
  {
   "cell_type": "code",
   "execution_count": 41,
   "metadata": {},
   "outputs": [],
   "source": [
    "def accuracy(result, min_cost):\n",
    "    accuracy_list = []\n",
    "    for i in range(len(result)):\n",
    "        error = math.fabs(result[i] - min_cost) / min_cost\n",
    "        accurate = (1 - error) * 100\n",
    "        accuracy_list.append(accurate)\n",
    "    return accuracy_list"
   ]
  },
  {
   "cell_type": "code",
   "execution_count": 55,
   "metadata": {},
   "outputs": [],
   "source": [
    "def average_accurate(accuracy) :\n",
    "    total = 0\n",
    "    for i in accuracy:\n",
    "        total += i\n",
    "    return total / 10"
   ]
  },
  {
   "cell_type": "code",
   "execution_count": 46,
   "metadata": {},
   "outputs": [
    {
     "name": "stdout",
     "output_type": "stream",
     "text": [
      "[2100, 2085, 2085, 2155, 2085, 2272, 2172, 2132, 2148, 2143]\n",
      "[99.28057553956835, 100.0, 100.0, 96.64268585131894, 100.0, 91.03117505995203, 95.8273381294964, 97.74580335731416, 96.97841726618705, 97.21822541966428]\n"
     ]
    }
   ],
   "source": [
    "print(result_17)\n",
    "accuracy_17 = accuracy(result_17, 2085)\n",
    "print(accuracy_17)"
   ]
  },
  {
   "cell_type": "code",
   "execution_count": 56,
   "metadata": {},
   "outputs": [
    {
     "name": "stdout",
     "output_type": "stream",
     "text": [
      "97.47242206235012\n"
     ]
    }
   ],
   "source": [
    "print(average_accurate(accuracy_17))"
   ]
  },
  {
   "cell_type": "code",
   "execution_count": 50,
   "metadata": {},
   "outputs": [
    {
     "name": "stdout",
     "output_type": "stream",
     "text": [
      "[93.27641408751333, 82.71077908217717, 75.2401280683031, 81.64354322305229, 84.20490928495197, 78.12166488794023, 90.60832443970116, 78.65528281750267, 91.03521878335113, 86.12593383137673]\n"
     ]
    }
   ],
   "source": [
    "accuracy_26 = accuracy([1000, 1099, 1169, 1109, 1085, 1142, 1025, 1137, 1021, 1067], 937)\n",
    "print(accuracy_26)"
   ]
  },
  {
   "cell_type": "code",
   "execution_count": 57,
   "metadata": {},
   "outputs": [
    {
     "name": "stdout",
     "output_type": "stream",
     "text": [
      "84.16221985058698\n"
     ]
    }
   ],
   "source": [
    "print(average_accurate(accuracy_26))"
   ]
  },
  {
   "cell_type": "code",
   "execution_count": 51,
   "metadata": {},
   "outputs": [
    {
     "name": "stdout",
     "output_type": "stream",
     "text": [
      "[43.34763948497854, 33.61945636623748, 31.902718168812594, 69.241773962804, 63.805436337625174, 13.733905579399142, 37.33905579399141, 37.482117310443485, 46.065808297567955, 46.63805436337625]\n"
     ]
    }
   ],
   "source": [
    "accuracy_42 = accuracy([1095, 1163, 1175, 914, 952, 1302, 1137, 1136, 1076, 1072], 699)\n",
    "print(accuracy_42)"
   ]
  },
  {
   "cell_type": "code",
   "execution_count": 58,
   "metadata": {},
   "outputs": [
    {
     "name": "stdout",
     "output_type": "stream",
     "text": [
      "42.3175965665236\n"
     ]
    }
   ],
   "source": [
    "print(average_accurate(accuracy_42))"
   ]
  },
  {
   "cell_type": "code",
   "execution_count": 53,
   "metadata": {},
   "outputs": [
    {
     "name": "stdout",
     "output_type": "stream",
     "text": [
      "[92.44544045574499, 85.6155489465086, 82.79227579273656, 100.0, 98.6511959116994, 87.48795710635446, 98.1213085912956, 96.3766598249068, 88.99384241611862, 90.91861098311901]\n"
     ]
    }
   ],
   "source": [
    "accuracy_46 = accuracy([51353, 54614, 55962, 47746, 48390, 53720, 48643, 49476, 53001, 52082], 47746)\n",
    "print(accuracy_46)"
   ]
  },
  {
   "cell_type": "code",
   "execution_count": 59,
   "metadata": {},
   "outputs": [
    {
     "name": "stdout",
     "output_type": "stream",
     "text": [
      "92.1402840028484\n"
     ]
    }
   ],
   "source": [
    "print(average_accurate(accuracy_46))"
   ]
  }
 ],
 "metadata": {
  "kernelspec": {
   "display_name": "Python 3",
   "language": "python",
   "name": "python3"
  },
  "language_info": {
   "codemirror_mode": {
    "name": "ipython",
    "version": 3
   },
   "file_extension": ".py",
   "mimetype": "text/x-python",
   "name": "python",
   "nbconvert_exporter": "python",
   "pygments_lexer": "ipython3",
   "version": "3.7.4"
  }
 },
 "nbformat": 4,
 "nbformat_minor": 2
}
