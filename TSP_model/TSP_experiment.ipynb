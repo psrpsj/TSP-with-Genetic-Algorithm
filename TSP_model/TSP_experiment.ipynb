{
 "cells": [
  {
   "cell_type": "code",
   "execution_count": 1,
   "metadata": {},
   "outputs": [],
   "source": [
    "from model import Genetic_Algorithm\n",
    "from geneset import GeneSet\n",
    "import matplotlib as plt"
   ]
  },
  {
   "cell_type": "code",
   "execution_count": null,
   "metadata": {},
   "outputs": [],
   "source": [
    "# Data Prep\n",
    "dataset = GeneSet(\"att48_d.txt\", 100, 1)\n",
    "model = Genetic_Algorithm(dataset)"
   ]
  },
  {
   "cell_type": "code",
   "execution_count": null,
   "metadata": {},
   "outputs": [],
   "source": [
    "num_generations = 100\n",
    "new_gene_rate = 0.1\n",
    "breed_time = 4\n",
    "mutation_rate = 0.1"
   ]
  },
  {
   "cell_type": "code",
   "execution_count": null,
   "metadata": {},
   "outputs": [],
   "source": [
    "model.train(num_generations, new_gene_rate, breed_time, mutation_rate)"
   ]
  },
  {
   "cell_type": "markdown",
   "metadata": {},
   "source": [
    "# Number of Gene in Geneset\n",
    "* Find impact of number of genes in Geneset"
   ]
  },
  {
   "cell_type": "code",
   "execution_count": null,
   "metadata": {},
   "outputs": [],
   "source": [
    "result = []\n",
    "x = []\n",
    "for num_gene in tqdm(range(10, 101)):\n",
    "    dataset = GeneSet(\"att48_d.txt\", num_gene, 1)\n",
    "    GA_test = Genetic_Algorithm(dataset)\n",
    "    test_result = GA_test.train(100, 0.2, num_gene //2, 0.2)\n",
    "    result.append(test_result)\n",
    "    x.append(num_gene)\n",
    "plt.plot(x, result)\n",
    "plt.show()"
   ]
  },
  {
   "cell_type": "markdown",
   "metadata": {},
   "source": [
    "# Number of Generation"
   ]
  },
  {
   "cell_type": "code",
   "execution_count": null,
   "metadata": {},
   "outputs": [],
   "source": [
    "result = []\n",
    "x = []\n",
    "for generation in tqdm(range(10, 101)):\n",
    "    dataset = GeneSet(\"att48_d.txt\", 100, 1)\n",
    "    GA_test = Genetic_Algorithm(dataset)\n",
    "    test_result = GA_test.train(generation, 0.2, 50, 0.2)\n",
    "    result.append(test_result)\n",
    "    x.append(generation)\n",
    "plt.plot(x, result)\n",
    "plt.show()"
   ]
  },
  {
   "cell_type": "markdown",
   "metadata": {},
   "source": [
    "# Rate of new gene"
   ]
  },
  {
   "cell_type": "code",
   "execution_count": null,
   "metadata": {},
   "outputs": [],
   "source": [
    "result = []\n",
    "x = []\n",
    "for num_new_gene in tqdm(range(10, 100)):\n",
    "    dataset = GeneSet(\"att48_d.txt\", 100, 1)\n",
    "    GA_test = Genetic_Algorithm(dataset)\n",
    "    test_result = GA_test.train(100, num_new_gene/100, 50, 0.2)\n",
    "    result.append(test_result)\n",
    "    x.append(num_new_gene/100)\n",
    "plt.plot(x, result)\n",
    "plt.show()"
   ]
  },
  {
   "cell_type": "markdown",
   "metadata": {},
   "source": [
    "# Number of Breed"
   ]
  },
  {
   "cell_type": "code",
   "execution_count": null,
   "metadata": {},
   "outputs": [],
   "source": [
    "result = []\n",
    "x = []\n",
    "for breed_num in tqdm(range(0, 51)):\n",
    "    dataset = GeneSet(\"att48_d.txt\", 100, 1)\n",
    "    GA_test = Genetic_Algorithm(dataset)\n",
    "    test_result = GA_test.train(100, 0.2, breed_num, 0.2)\n",
    "    result.append(test_result)\n",
    "    x.append(breed_num)\n",
    "plt.plot(x, result)\n",
    "plt.show()"
   ]
  },
  {
   "cell_type": "markdown",
   "metadata": {},
   "source": [
    "# Rate of mutation"
   ]
  },
  {
   "cell_type": "code",
   "execution_count": null,
   "metadata": {},
   "outputs": [],
   "source": [
    "result = []\n",
    "x = []\n",
    "for mutation_rate in tqdm(range(10, 100)):\n",
    "    dataset = GeneSet(\"att48_d.txt\", 100, 1)\n",
    "    GA_test = Genetic_Algorithm(dataset)\n",
    "    test_result = GA_test.train(100, 0.2, 50, mutation_rate/100)\n",
    "    result.append(test_result)\n",
    "    x.append(mutation_rate/100)\n",
    "plt.plot(x, result)\n",
    "plt.show()"
   ]
  },
  {
   "cell_type": "code",
   "execution_count": null,
   "metadata": {},
   "outputs": [],
   "source": []
  }
 ],
 "metadata": {
  "interpreter": {
   "hash": "72208f6837979d259435965f51c9da328c8aa1664090b8683d4b3992ff6ae94f"
  },
  "kernelspec": {
   "display_name": "Python 3.9.5 64-bit ('base': conda)",
   "name": "python3"
  },
  "language_info": {
   "codemirror_mode": {
    "name": "ipython",
    "version": 3
   },
   "file_extension": ".py",
   "mimetype": "text/x-python",
   "name": "python",
   "nbconvert_exporter": "python",
   "pygments_lexer": "ipython3",
   "version": "3.9.5"
  },
  "orig_nbformat": 4
 },
 "nbformat": 4,
 "nbformat_minor": 2
}
